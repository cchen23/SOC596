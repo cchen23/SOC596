{
 "cells": [
  {
   "cell_type": "markdown",
   "metadata": {},
   "source": [
    "## Introduction\n",
    "\n",
    "Google’s NGrams dataset contains word corpuses in different languages, containing data from millions of digitized texts. This dataset was created by processing over one trillion words of text [1], and researchers can use the data by downloading files with specific NGram counts [2] or by using the NGram viewer to see trends for specific NGrams over time [3].\n",
    "\n",
    "[Michel et al 2011](http://science.sciencemag.org/content/331/6014/176) used the Google Ngrams corpus to investigate cultural trends, showing things such as changing usage of irregular verbs censorship of specific authors.\n",
    "\n",
    "However, others have raised a few criticisms of this approach, pointing to the existence of OCR errors, overrepresentation of scientific content, and the fact that each book receives equal weight regardless of popularity [5]. \n",
    "\n",
    "A slightly smaller corpus, the Corpus of Historical American English (COHA), addresses some of these criticisms. This corpus includes 400 million words from texts published between 1810 and 2009 [6]. It provides the context surrounding each ngram in the corpus and provides information about the representation of each type of text (fiction, magazine, newspaper, or non-fiction) in the database.\n",
    "\n",
    "For a comparison of the two corpuses by the creators of the COHA corpus, see [7]. For a response to criticisms of culturomics, see [8]."
   ]
  },
  {
   "cell_type": "markdown",
   "metadata": {},
   "source": [
    "In this activity, you will compare these two corpuses and evaluate the validity of using either corpus to analyze cultural trends. You will practice data wrangling, coding, and applying data to answer questions about social trends."
   ]
  },
  {
   "cell_type": "markdown",
   "metadata": {},
   "source": [
    "1. https://research.googleblog.com/2006/08/all-our-n-gram-are-belong-to-you.html\n",
    "2. storage.googleapis.com/books/ngrams/books/datasetsv2.html\n",
    "3. https://books.google.com/ngrams\n",
    "4. http://www.culturomics.org/Resources/faq\n",
    "5. https://www.wired.com/2015/10/pitfalls-of-studying-language-with-google-ngram/\n",
    "6. http://davies-linguistics.byu.edu/ling450/davies_corpora_2011.pdf\n",
    "7. http://googlebooks.byu.edu/compare-googleBooks.asp\n",
    "8. http://www.culturomics.org/Resources/faq"
   ]
  },
  {
   "cell_type": "markdown",
   "metadata": {},
   "source": [
    "1\\.\tThe Michel et al study used frequency plots of year ngrams (such as '1883') to show that the use of years' ngrams have decreased faster over time. They use these plots to conclude that we \"forget faster\" as a society. However, critics state that the Google ngrams data contains an overabundance of academic literature, which might render these conclulsions invalid.\n",
    "\n",
    "Use the included data from the COHA database to create frequency plots for the years '1883', '1910', and '1950'. Do these plots show similar trends to those shown in Figure 3a?"
   ]
  },
  {
   "cell_type": "markdown",
   "metadata": {},
   "source": [
    "2\\. One of the criticisms of the Google NGrams corpus is that it over-represents academic literature. The COHA Corpus categorizes texts according to four categories (Fiction, Magazines, Newspapers, and Nonfiction) and provides the percent representation of each category for each year. Can you categories from the COHA database show if the \"forgetting faster\" effect is caused by an over-representation of academic literature?"
   ]
  },
  {
   "cell_type": "markdown",
   "metadata": {},
   "source": [
    "3\\. The COHA corpus also contains information about each ngram's context. Another criticism of Google NGrams is that it does not give any information about the context of ngrams in the corpus. What (if any) additional understanding can you gain from the contexts provided in the COHA corpus data?"
   ]
  },
  {
   "cell_type": "markdown",
   "metadata": {},
   "source": [
    "## Data\n",
    "To obtain the COHA data, you can use the included files or retrieve the data directly from the online database (http://corpus.byu.edu/coha/).\n",
    "\n",
    "### Included files: \n",
    "**Counts**: *coha_1883_counts.csv*, *coha_1910_counts.csv*, *coha_1950_counts.csv*\n",
    "\n",
    "These comma-separated files hold counts of the ngrams 1883, 1910, and 1950 for the years 1810 through 2009. The columns give the following information:\n",
    "* NUM_PER_MILLION: frequency of the ngram (in occurrences per million words in the corpus) \n",
    "* NUM_TOKENS: number of occurrences of the ngram\n",
    "* NUM_WORDS: total number of words in the corpus\n",
    "\n",
    "*coha_decade_counts.csv*\n",
    "\n",
    "This comma-separated file contains the number of ngrams for each decated, separated by type of publication. For more information about the sources for each genre, see http://corpus.byu.edu/coha/help/texts.asp\n",
    "\n",
    "**Context**: *coha_1883_clean.txt*, *coha_1910_clean.txt*, *coha_1950_clean.txt*, *coha_influenza_clean.txt*, *coha_feminism_cleam.txt*\n",
    "\n",
    "These tab-separated files hold occurrences of the ngrams 1883, 1910, 1950, influenza, and feminism in the coha corpus. Each row corresponds to an occurrence of the ngram, and the columns give the following information: \n",
    "* YEAR: the publication year of the text containing this ngram occurrence\n",
    "* TYPE: the type of the text that this ngram occurred in (NF for non-fiction, MAG for popular magazine, FIC for fiction, and NEWS for newspaper)\n",
    "* SOURCE: an identifier for the specific text containing this ngram occurrence\n",
    "* CONTEXT: the surrounding context of the ngram occurrence"
   ]
  },
  {
   "cell_type": "markdown",
   "metadata": {},
   "source": [
    "For reference, the Google NGrams corpus produces the following ngram frequency curves"
   ]
  },
  {
   "cell_type": "code",
   "execution_count": 1,
   "metadata": {
    "collapsed": false
   },
   "outputs": [
    {
     "data": {
      "text/html": [
       "<center><h1>Ngram Frequencies</h1></center>"
      ],
      "text/plain": [
       "<IPython.core.display.HTML object>"
      ]
     },
     "metadata": {},
     "output_type": "display_data"
    },
    {
     "data": {
      "text/html": [
       "<iframe name=\"ngram_chart\" src=\"https://books.google.com/ngrams/interactive_chart?content=1883%2C+1910%2C+1950&year_start=1800&year_end=2000&corpus=15&smoothing=3&share=&direct_url=t1%3B%2C1883%3B%2Cc0%3B.t1%3B%2C1910%3B%2Cc0%3B.t1%3B%2C1950%3B%2Cc0\" width=900 height=500 marginwidth=0 marginheight=0 hspace=0 vspace=0 frameborder=0 scrolling=no></iframe>"
      ],
      "text/plain": [
       "<IPython.core.display.HTML object>"
      ]
     },
     "metadata": {},
     "output_type": "display_data"
    }
   ],
   "source": [
    "from IPython.core.display import display, HTML\n",
    "display(HTML('<center><h1>Ngram Frequencies</h1></center>'))\n",
    "embed_text = '<iframe name=\"ngram_chart\" src=\"https://books.google.com/ngrams/interactive_chart?content=1883%2C+1910%2C+1950&year_start=1800&year_end=2000&corpus=15&smoothing=3&share=&direct_url=t1%3B%2C1883%3B%2Cc0%3B.t1%3B%2C1910%3B%2Cc0%3B.t1%3B%2C1950%3B%2Cc0\" width=900 height=500 marginwidth=0 marginheight=0 hspace=0 vspace=0 frameborder=0 scrolling=no></iframe>'\n",
    "display(HTML(embed_text))"
   ]
  }
 ],
 "metadata": {
  "anaconda-cloud": {},
  "kernelspec": {
   "display_name": "Python [conda env:python2]",
   "language": "python",
   "name": "conda-env-python2-py"
  },
  "language_info": {
   "codemirror_mode": {
    "name": "ipython",
    "version": 2
   },
   "file_extension": ".py",
   "mimetype": "text/x-python",
   "name": "python",
   "nbconvert_exporter": "python",
   "pygments_lexer": "ipython2",
   "version": "2.7.12"
  }
 },
 "nbformat": 4,
 "nbformat_minor": 0
}
